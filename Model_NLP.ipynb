{
  "cells": [
    {
      "cell_type": "markdown",
      "metadata": {
        "id": "-6lCeUD3N46F"
      },
      "source": [
        "Sumber Data : https://www.kaggle.com/hgultekin/bbcnewsarchive?select=bbc-news-data.csv"
      ]
    },
    {
      "cell_type": "code",
      "execution_count": 4,
      "metadata": {
        "colab": {
          "base_uri": "https://localhost:8080/"
        },
        "id": "sdn2pweozgLO",
        "outputId": "7e60a738-ab10-4f45-ad12-7cdd6616f9a8"
      },
      "outputs": [
        {
          "name": "stdout",
          "output_type": "stream",
          "text": [
            "Found GPU at: /device:GPU:0\n"
          ]
        }
      ],
      "source": [
        "%tensorflow_version 2.x\n",
        "import tensorflow as tf\n",
        "device_name = tf.test.gpu_device_name()\n",
        "if device_name != '/device:GPU:0':\n",
        "  raise SystemError('GPU device not found')\n",
        "print('Found GPU at: {}'.format(device_name))"
      ]
    },
    {
      "cell_type": "code",
      "execution_count": 5,
      "metadata": {
        "colab": {
          "base_uri": "https://localhost:8080/"
        },
        "id": "qpQvux4szvDx",
        "outputId": "29afe370-e54e-45e9-dbd6-b3dde50c371a"
      },
      "outputs": [
        {
          "name": "stdout",
          "output_type": "stream",
          "text": [
            "Time (s) to convolve 32x7x7x3 filter over random 100x100x100x3 images (batch x height x width x channel). Sum of ten runs.\n",
            "CPU (s):\n",
            "3.6826875910000183\n",
            "GPU (s):\n",
            "0.04767378099998609\n",
            "GPU speedup over CPU: 77x\n"
          ]
        }
      ],
      "source": [
        "%tensorflow_version 2.x\n",
        "import tensorflow as tf\n",
        "import timeit\n",
        "\n",
        "device_name = tf.test.gpu_device_name()\n",
        "if device_name != '/device:GPU:0':\n",
        "  print(\n",
        "      '\\n\\nThis error most likely means that this notebook is not '\n",
        "      'configured to use a GPU.  Change this in Notebook Settings via the '\n",
        "      'command palette (cmd/ctrl-shift-P) or the Edit menu.\\n\\n')\n",
        "  raise SystemError('GPU device not found')\n",
        "\n",
        "def cpu():\n",
        "  with tf.device('/cpu:0'):\n",
        "    random_image_cpu = tf.random.normal((100, 100, 100, 3))\n",
        "    net_cpu = tf.keras.layers.Conv2D(32, 7)(random_image_cpu)\n",
        "    return tf.math.reduce_sum(net_cpu)\n",
        "\n",
        "def gpu():\n",
        "  with tf.device('/device:GPU:0'):\n",
        "    random_image_gpu = tf.random.normal((100, 100, 100, 3))\n",
        "    net_gpu = tf.keras.layers.Conv2D(32, 7)(random_image_gpu)\n",
        "    return tf.math.reduce_sum(net_gpu)\n",
        "  \n",
        "# We run each op once to warm up; see: https://stackoverflow.com/a/45067900\n",
        "cpu()\n",
        "gpu()\n",
        "\n",
        "# Run the op several times.\n",
        "print('Time (s) to convolve 32x7x7x3 filter over random 100x100x100x3 images '\n",
        "      '(batch x height x width x channel). Sum of ten runs.')\n",
        "print('CPU (s):')\n",
        "cpu_time = timeit.timeit('cpu()', number=10, setup=\"from __main__ import cpu\")\n",
        "print(cpu_time)\n",
        "print('GPU (s):')\n",
        "gpu_time = timeit.timeit('gpu()', number=10, setup=\"from __main__ import gpu\")\n",
        "print(gpu_time)\n",
        "print('GPU speedup over CPU: {}x'.format(int(cpu_time/gpu_time)))"
      ]
    },
    {
      "cell_type": "code",
      "execution_count": 6,
      "metadata": {
        "id": "gPzMuQPTz6by"
      },
      "outputs": [],
      "source": [
        "import pandas as pd\n",
        "import os, re, string\n",
        "import tensorflow as tf\n",
        "import seaborn as sns\n",
        "import matplotlib.pyplot as plt\n",
        "from tensorflow.keras.layers import Input, LSTM, Dropout, Dense, Embedding, Flatten\n",
        "from tensorflow.keras.models import Model\n",
        "from tensorflow.keras.callbacks import EarlyStopping\n",
        "from tensorflow.keras.preprocessing.text import Tokenizer\n",
        "from tensorflow.keras.preprocessing.sequence import pad_sequences\n",
        "from sklearn.model_selection import train_test_split"
      ]
    },
    {
      "cell_type": "code",
      "execution_count": 7,
      "metadata": {
        "id": "gwsstSgg0yAt"
      },
      "outputs": [],
      "source": [
        "df = pd.read_csv('bbc-news-data.csv', sep='\\t')\n",
        "df = df.drop(columns=['filename'])"
      ]
    },
    {
      "cell_type": "code",
      "execution_count": 8,
      "metadata": {
        "colab": {
          "base_uri": "https://localhost:8080/",
          "height": 206
        },
        "id": "dA2WvxbA00va",
        "outputId": "f0c84921-3ef3-4f7f-d71f-80185ccc6776"
      },
      "outputs": [
        {
          "data": {
            "text/html": [
              "<div>\n",
              "<style scoped>\n",
              "    .dataframe tbody tr th:only-of-type {\n",
              "        vertical-align: middle;\n",
              "    }\n",
              "\n",
              "    .dataframe tbody tr th {\n",
              "        vertical-align: top;\n",
              "    }\n",
              "\n",
              "    .dataframe thead th {\n",
              "        text-align: right;\n",
              "    }\n",
              "</style>\n",
              "<table border=\"1\" class=\"dataframe\">\n",
              "  <thead>\n",
              "    <tr style=\"text-align: right;\">\n",
              "      <th></th>\n",
              "      <th>category</th>\n",
              "      <th>title</th>\n",
              "      <th>content</th>\n",
              "    </tr>\n",
              "  </thead>\n",
              "  <tbody>\n",
              "    <tr>\n",
              "      <th>0</th>\n",
              "      <td>business</td>\n",
              "      <td>Ad sales boost Time Warner profit</td>\n",
              "      <td>Quarterly profits at US media giant TimeWarne...</td>\n",
              "    </tr>\n",
              "    <tr>\n",
              "      <th>1</th>\n",
              "      <td>business</td>\n",
              "      <td>Dollar gains on Greenspan speech</td>\n",
              "      <td>The dollar has hit its highest level against ...</td>\n",
              "    </tr>\n",
              "    <tr>\n",
              "      <th>2</th>\n",
              "      <td>business</td>\n",
              "      <td>Yukos unit buyer faces loan claim</td>\n",
              "      <td>The owners of embattled Russian oil giant Yuk...</td>\n",
              "    </tr>\n",
              "    <tr>\n",
              "      <th>3</th>\n",
              "      <td>business</td>\n",
              "      <td>High fuel prices hit BA's profits</td>\n",
              "      <td>British Airways has blamed high fuel prices f...</td>\n",
              "    </tr>\n",
              "    <tr>\n",
              "      <th>4</th>\n",
              "      <td>business</td>\n",
              "      <td>Pernod takeover talk lifts Domecq</td>\n",
              "      <td>Shares in UK drinks and food firm Allied Dome...</td>\n",
              "    </tr>\n",
              "  </tbody>\n",
              "</table>\n",
              "</div>"
            ],
            "text/plain": [
              "   category  ...                                            content\n",
              "0  business  ...   Quarterly profits at US media giant TimeWarne...\n",
              "1  business  ...   The dollar has hit its highest level against ...\n",
              "2  business  ...   The owners of embattled Russian oil giant Yuk...\n",
              "3  business  ...   British Airways has blamed high fuel prices f...\n",
              "4  business  ...   Shares in UK drinks and food firm Allied Dome...\n",
              "\n",
              "[5 rows x 3 columns]"
            ]
          },
          "execution_count": 8,
          "metadata": {},
          "output_type": "execute_result"
        }
      ],
      "source": [
        "df.head()"
      ]
    },
    {
      "cell_type": "code",
      "execution_count": 9,
      "metadata": {
        "colab": {
          "base_uri": "https://localhost:8080/"
        },
        "id": "EEdGKr9I0343",
        "outputId": "63dc5c75-2ea5-4959-9720-9518f2927536"
      },
      "outputs": [
        {
          "data": {
            "text/plain": [
              "sport            511\n",
              "business         510\n",
              "politics         417\n",
              "tech             401\n",
              "entertainment    386\n",
              "Name: category, dtype: int64"
            ]
          },
          "execution_count": 9,
          "metadata": {},
          "output_type": "execute_result"
        }
      ],
      "source": [
        "df.category.value_counts()"
      ]
    },
    {
      "cell_type": "code",
      "execution_count": 10,
      "metadata": {
        "colab": {
          "base_uri": "https://localhost:8080/"
        },
        "id": "Z94XGoRo09GO",
        "outputId": "b7679ae5-bd72-4199-e546-035fc879bf1a"
      },
      "outputs": [
        {
          "data": {
            "text/plain": [
              "(2225, 3)"
            ]
          },
          "execution_count": 10,
          "metadata": {},
          "output_type": "execute_result"
        }
      ],
      "source": [
        "df.shape"
      ]
    },
    {
      "cell_type": "code",
      "execution_count": 11,
      "metadata": {
        "colab": {
          "base_uri": "https://localhost:8080/",
          "height": 460
        },
        "id": "cjaBUt4i0-qX",
        "outputId": "c0bb7832-f0ed-4706-87a9-c4b7f20bb1ef"
      },
      "outputs": [
        {
          "name": "stderr",
          "output_type": "stream",
          "text": [
            "/usr/local/lib/python3.7/dist-packages/seaborn/_decorators.py:43: FutureWarning: Pass the following variable as a keyword arg: x. From version 0.12, the only valid positional argument will be `data`, and passing other arguments without an explicit keyword will result in an error or misinterpretation.\n",
            "  FutureWarning\n"
          ]
        },
        {
          "data": {
            "text/plain": [
              "<matplotlib.axes._subplots.AxesSubplot at 0x7f0d94c94090>"
            ]
          },
          "execution_count": 11,
          "metadata": {},
          "output_type": "execute_result"
        },
        {
          "data": {
            "image/png": "[encoded data removed]",
            "text/plain": [
              "<Figure size 720x432 with 1 Axes>"
            ]
          },
          "metadata": {
            "needs_background": "light"
          },
          "output_type": "display_data"
        }
      ],
      "source": [
        "plt.figure(figsize = (10, 6))\n",
        "sns.countplot(df.category)"
      ]
    },
    {
      "cell_type": "code",
      "execution_count": 12,
      "metadata": {
        "id": "sghsKHli1BpM"
      },
      "outputs": [],
      "source": [
        "remove_non_alphabets =lambda x: re.sub(r'[^a-zA-Z]',' ',x)"
      ]
    },
    {
      "cell_type": "code",
      "execution_count": 13,
      "metadata": {
        "id": "c_tX0WNe1FGv"
      },
      "outputs": [],
      "source": [
        "def cleaner(data):\n",
        "    return(data.translate(str.maketrans('','', string.punctuation)))\n",
        "    df.title = df.title.apply(lambda x: cleaner(x))\n",
        "    df.content = df.content.apply(lambda x: lem(x))\n",
        "\n",
        "def rem_numbers(data):\n",
        "    return re.sub('[0-9]+','',data)\n",
        "    df['title'].apply(rem_numbers)\n",
        "    df['content'].apply(rem_numbers)"
      ]
    },
    {
      "cell_type": "code",
      "execution_count": 14,
      "metadata": {
        "id": "oFTe1YC_1HaS"
      },
      "outputs": [],
      "source": [
        "import nltk\n",
        "from nltk.stem import WordNetLemmatizer\n",
        "lemmatizer = WordNetLemmatizer()\n",
        "\n",
        "def lem(data):\n",
        "    pos_dict = {'N': wn.NOUN, 'V': wn.VERB, 'J': wn.ADJ, 'R': wn.ADV}\n",
        "    return(' '.join([lemmatizer.lemmatize(w,pos_dict.get(t, wn.NOUN)) for w,t in nltk.pos_tag(data.split())]))\n",
        "    df.title = df.title.apply(lambda x: lem(x))\n",
        "    df.content = df.content.apply(lambda x: lem(x))"
      ]
    },
    {
      "cell_type": "code",
      "execution_count": 15,
      "metadata": {
        "colab": {
          "base_uri": "https://localhost:8080/"
        },
        "id": "Uc1Me1Y61JvU",
        "outputId": "2acf5a2c-428f-430f-b2e8-2a1f3fcb7da0"
      },
      "outputs": [
        {
          "name": "stdout",
          "output_type": "stream",
          "text": [
            "[nltk_data] Downloading package stopwords to /root/nltk_data...\n",
            "[nltk_data]   Unzipping corpora/stopwords.zip.\n"
          ]
        },
        {
          "data": {
            "text/plain": [
              "True"
            ]
          },
          "execution_count": 15,
          "metadata": {},
          "output_type": "execute_result"
        }
      ],
      "source": [
        "from nltk.corpus import stopwords\n",
        "nltk.download('stopwords')"
      ]
    },
    {
      "cell_type": "code",
      "execution_count": 16,
      "metadata": {
        "id": "rFpmF5xT1M5o"
      },
      "outputs": [],
      "source": [
        "stwrds = stopwords.words('english')\n",
        "def stopword(data):\n",
        "    return(' '.join([w for w in data.split() if w not in stwrds ]))\n",
        "    df.title = df.title.apply(lambda x: stopword(x))\n",
        "    df.content = df.content.apply(lambda x: lem(x))"
      ]
    },
    {
      "cell_type": "code",
      "execution_count": 17,
      "metadata": {
        "colab": {
          "base_uri": "https://localhost:8080/",
          "height": 206
        },
        "id": "swdERQSx1Qp3",
        "outputId": "dd19dc33-f704-4c3d-e5c3-c1f5fa57747c"
      },
      "outputs": [
        {
          "data": {
            "text/html": [
              "<div>\n",
              "<style scoped>\n",
              "    .dataframe tbody tr th:only-of-type {\n",
              "        vertical-align: middle;\n",
              "    }\n",
              "\n",
              "    .dataframe tbody tr th {\n",
              "        vertical-align: top;\n",
              "    }\n",
              "\n",
              "    .dataframe thead th {\n",
              "        text-align: right;\n",
              "    }\n",
              "</style>\n",
              "<table border=\"1\" class=\"dataframe\">\n",
              "  <thead>\n",
              "    <tr style=\"text-align: right;\">\n",
              "      <th></th>\n",
              "      <th>title</th>\n",
              "      <th>content</th>\n",
              "      <th>business</th>\n",
              "      <th>entertainment</th>\n",
              "      <th>politics</th>\n",
              "      <th>sport</th>\n",
              "      <th>tech</th>\n",
              "    </tr>\n",
              "  </thead>\n",
              "  <tbody>\n",
              "    <tr>\n",
              "      <th>0</th>\n",
              "      <td>Ad sales boost Time Warner profit</td>\n",
              "      <td>Quarterly profits at US media giant TimeWarne...</td>\n",
              "      <td>1</td>\n",
              "      <td>0</td>\n",
              "      <td>0</td>\n",
              "      <td>0</td>\n",
              "      <td>0</td>\n",
              "    </tr>\n",
              "    <tr>\n",
              "      <th>1</th>\n",
              "      <td>Dollar gains on Greenspan speech</td>\n",
              "      <td>The dollar has hit its highest level against ...</td>\n",
              "      <td>1</td>\n",
              "      <td>0</td>\n",
              "      <td>0</td>\n",
              "      <td>0</td>\n",
              "      <td>0</td>\n",
              "    </tr>\n",
              "    <tr>\n",
              "      <th>2</th>\n",
              "      <td>Yukos unit buyer faces loan claim</td>\n",
              "      <td>The owners of embattled Russian oil giant Yuk...</td>\n",
              "      <td>1</td>\n",
              "      <td>0</td>\n",
              "      <td>0</td>\n",
              "      <td>0</td>\n",
              "      <td>0</td>\n",
              "    </tr>\n",
              "    <tr>\n",
              "      <th>3</th>\n",
              "      <td>High fuel prices hit BA's profits</td>\n",
              "      <td>British Airways has blamed high fuel prices f...</td>\n",
              "      <td>1</td>\n",
              "      <td>0</td>\n",
              "      <td>0</td>\n",
              "      <td>0</td>\n",
              "      <td>0</td>\n",
              "    </tr>\n",
              "    <tr>\n",
              "      <th>4</th>\n",
              "      <td>Pernod takeover talk lifts Domecq</td>\n",
              "      <td>Shares in UK drinks and food firm Allied Dome...</td>\n",
              "      <td>1</td>\n",
              "      <td>0</td>\n",
              "      <td>0</td>\n",
              "      <td>0</td>\n",
              "      <td>0</td>\n",
              "    </tr>\n",
              "  </tbody>\n",
              "</table>\n",
              "</div>"
            ],
            "text/plain": [
              "                               title  ... tech\n",
              "0  Ad sales boost Time Warner profit  ...    0\n",
              "1   Dollar gains on Greenspan speech  ...    0\n",
              "2  Yukos unit buyer faces loan claim  ...    0\n",
              "3  High fuel prices hit BA's profits  ...    0\n",
              "4  Pernod takeover talk lifts Domecq  ...    0\n",
              "\n",
              "[5 rows x 7 columns]"
            ]
          },
          "execution_count": 17,
          "metadata": {},
          "output_type": "execute_result"
        }
      ],
      "source": [
        "category = pd.get_dummies(df['category'])\n",
        "df = pd.concat([df, category], axis=1)\n",
        "df = df.drop('category', axis=1)\n",
        "df.head()"
      ]
    },
    {
      "cell_type": "code",
      "execution_count": 18,
      "metadata": {
        "id": "XAt2293e1UXB"
      },
      "outputs": [],
      "source": [
        "a = df['title'].values + '' + df['content'].values"
      ]
    },
    {
      "cell_type": "code",
      "execution_count": 19,
      "metadata": {
        "colab": {
          "base_uri": "https://localhost:8080/"
        },
        "id": "20WZI_V41r0c",
        "outputId": "f0020d40-6c1d-4b07-9505-41d11213b4d2"
      },
      "outputs": [
        {
          "data": {
            "text/plain": [
              "array(['Ad sales boost Time Warner profit Quarterly profits at US media giant TimeWarner jumped 76% to $1.13bn (£600m) for the three months to December, from $639m year-earlier.  The firm, which is now one of the biggest investors in Google, benefited from sales of high-speed internet connections and higher advert sales. TimeWarner said fourth quarter sales rose 2% to $11.1bn from $10.9bn. Its profits were buoyed by one-off gains which offset a profit dip at Warner Bros, and less users for AOL.  Time Warner said on Friday that it now owns 8% of search-engine Google. But its own internet business, AOL, had has mixed fortunes. It lost 464,000 subscribers in the fourth quarter profits were lower than in the preceding three quarters. However, the company said AOL\\'s underlying profit before exceptional items rose 8% on the back of stronger internet advertising revenues. It hopes to increase subscribers by offering the online service free to TimeWarner internet customers and will try to sign up AOL\\'s existing customers for high-speed broadband. TimeWarner also has to restate 2000 and 2003 results following a probe by the US Securities Exchange Commission (SEC), which is close to concluding.  Time Warner\\'s fourth quarter profits were slightly better than analysts\\' expectations. But its film division saw profits slump 27% to $284m, helped by box-office flops Alexander and Catwoman, a sharp contrast to year-earlier, when the third and final film in the Lord of the Rings trilogy boosted results. For the full-year, TimeWarner posted a profit of $3.36bn, up 27% from its 2003 performance, while revenues grew 6.4% to $42.09bn. \"Our financial performance was strong, meeting or exceeding all of our full-year objectives and greatly enhancing our flexibility,\" chairman and chief executive Richard Parsons said. For 2005, TimeWarner is projecting operating earnings growth of around 5%, and also expects higher revenue and wider profit margins.  TimeWarner is to restate its accounts as part of efforts to resolve an inquiry into AOL by US market regulators. It has already offered to pay $300m to settle charges, in a deal that is under review by the SEC. The company said it was unable to estimate the amount it needed to set aside for legal reserves, which it previously set at $500m. It intends to adjust the way it accounts for a deal with German music publisher Bertelsmann\\'s purchase of a stake in AOL Europe, which it had reported as advertising revenue. It will now book the sale of its stake in AOL Europe as a loss on the value of that stake. ',\n",
              "       'Dollar gains on Greenspan speech The dollar has hit its highest level against the euro in almost three months after the Federal Reserve head said the US trade deficit is set to stabilise.  And Alan Greenspan highlighted the US government\\'s willingness to curb spending and rising household savings as factors which may help to reduce it. In late trading in New York, the dollar reached $1.2871 against the euro, from $1.2974 on Thursday. Market concerns about the deficit has hit the greenback in recent months. On Friday, Federal Reserve chairman Mr Greenspan\\'s speech in London ahead of the meeting of G7 finance ministers sent the dollar higher after it had earlier tumbled on the back of worse-than-expected US jobs data. \"I think the chairman\\'s taking a much more sanguine view on the current account deficit than he\\'s taken for some time,\" said Robert Sinche, head of currency strategy at Bank of America in New York. \"He\\'s taking a longer-term view, laying out a set of conditions under which the current account deficit can improve this year and next.\"  Worries about the deficit concerns about China do, however, remain. China\\'s currency remains pegged to the dollar and the US currency\\'s sharp falls in recent months have therefore made Chinese export prices highly competitive. But calls for a shift in Beijing\\'s policy have fallen on deaf ears, despite recent comments in a major Chinese newspaper that the \"time is ripe\" for a loosening of the peg. The G7 meeting is thought unlikely to produce any meaningful movement in Chinese policy. In the meantime, the US Federal Reserve\\'s decision on 2 February to boost interest rates by a quarter of a point - the sixth such move in as many months - has opened up a differential with European rates. The half-point window, some believe, could be enough to keep US assets looking more attractive, and could help prop up the dollar. The recent falls have partly been the result of big budget deficits, as well as the US\\'s yawning current account gap, both of which need to be funded by the buying of US bonds and assets by foreign firms and governments. The White House will announce its budget on Monday, and many commentators believe the deficit will remain at close to half a trillion dollars. ',\n",
              "       'Yukos unit buyer faces loan claim The owners of embattled Russian oil giant Yukos are to ask the buyer of its former production unit to pay back a $900m (£479m) loan.  State-owned Rosneft bought the Yugansk unit for $9.3bn in a sale forced by Russia to part settle a $27.5bn tax claim against Yukos. Yukos\\' owner Menatep Group says it will ask Rosneft to repay a loan that Yugansk had secured on its assets. Rosneft already faces a similar $540m repayment demand from foreign banks. Legal experts said Rosneft\\'s purchase of Yugansk would include such obligations. \"The pledged assets are with Rosneft, so it will have to pay real money to the creditors to avoid seizure of Yugansk assets,\" said Moscow-based US lawyer Jamie Firestone, who is not connected to the case. Menatep Group\\'s managing director Tim Osborne told the Reuters news agency: \"If they default, we will fight them where the rule of law exists under the international arbitration clauses of the credit.\"  Rosneft officials were unavailable for comment. But the company has said it intends to take action against Menatep to recover some of the tax claims and debts owed by Yugansk. Yukos had filed for bankruptcy protection in a US court in an attempt to prevent the forced sale of its main production arm. The sale went ahead in December and Yugansk was sold to a little-known shell company which in turn was bought by Rosneft. Yukos claims its downfall was punishment for the political ambitions of its founder Mikhail Khodorkovsky and has vowed to sue any participant in the sale. ',\n",
              "       ...,\n",
              "       'Be careful how you code A new European directive could put software writers at risk of legal action, warns former programmer and technology analyst Bill Thompson.  If it gets its way, the Dutch government will conclude its presidency of the European Union by pushing through a controversial measure that has been rejected by the European Parliament, lacks majority support from national governments and will leave millions of European citizens in legal limbo and facing the possibility of court cases against them. If the new law was about border controls, defence or even the new constitution, then our TV screens would be full of experts agonising over the impact on our daily lives. Sadly for those who will be directly affected, the controversy concerns the patenting of computer programs, a topic that may excite the bloggers, campaigning groups and technical press but does not obsess Middle Britain. After all, how much fuss can you generate about the Directive on the Patentability of Computer-Implemented Inventions, and the way it amends Article 52 of the 1973 European Patent Convention? Yet if the new directive is nodded through at the next meeting of one of the EU\\'s ministerial councils, as seems likely, it will allow programs to be patented in Europe just as they are in the US. Many observers of the computing scene, including myself, think the results will be disastrous for small companies, innovative programmers and the free and open source software movement. It will let large companies patent all sorts of ideas and give legal force to those who want to limit their competitors\\' use of really obvious ideas.  In the US you cannot build a system that stores customer credit card details so that they can pay without having to re-enter them unless Amazon lets you, because they hold the patent on \"one-click\" online purchase. It is a small invention, but Amazon made it to the patent office first and now owns it.  We are relatively free from this sort of thing over here, but perhaps not for long. The new proposals go back to 2002, although argument about patentability of software and computer-implemented inventions has been going on since at least the mid-1980s. They have come to a head now after a year in which proposals were made, endorsed by the Council of Ministers, radically modified by the European Parliament and then re-presented in their original form. Some national governments seem to be aware of the problems. Poland has rejected the proposal and Germany\\'s main political parties have opposed it, but there is not enough opposition to guarantee their rejection. Early in December the British government held a consultation meeting with those who had commented on the proposals. Science Minister Lord Sainsbury went along to listen and outline the UK position, but according to those present, it was embarrassing to see how little the minister and his officials actually understood the issues concerned.  The draft Directive is being put through the council as what is called an \"A\" item and can only be approved or rejected. No discussion or amendment is allowed. So why should we be worried? First, there is the abuse of the democratic process involved in disregarding the views of the parliament and abandoning all of their carefully argued amendments. This goes to the heart of the European project, and even those who do not care about software or patents should be worried. If coders are treated like this today, who is to say that it will not be you tomorrow?  More directly, once software patents are granted then any programmer will have to worry that the code they are writing is infringing someone else\\'s patent. This is not about stealing software, as code is already protected by copyright. Patents are not copyright, but something much stronger. A patent gives the owner the right to stop anyone else using their invention, even if the other person invented it separately. I have never, to my shame, managed to read Lord Byron\\'s Childe Harold\\'s Pilgrimage. If it was pointed out that one of my articles contained a substantial chunk of the poem then I could defend myself in court by claiming that I had simply made it up and it was coincidence. The same does not hold for a patent. If I sit down this afternoon and write a brilliant graphics compression routine and it happens to be the same as the LZW algorithm used in GIF files, then I am in trouble under patent law, at least in the US. Coincidence is no defence. The proposed directive is supported by many of the major software companies, but this is hardly surprising since most of them are US-based and they have already had to cope with a legal environment that allows patents. They have legal departments and, more crucially, patents of their own which they can trade or cross-license with other patent holders.  Even this system breaks down, of course, as Microsoft found out last year when they initially lost a case brought by Eolas which claimed that Internet Explorer (and other browsers) infringed an Eolas patent. That one was eventually thrown out, but only after months of uncertainty and millions of dollars. But small companies, and the free and open software movement do not have any patents to trade. Much of the really useful software we use every day, programs like the Apache web server, the GNU/Linux operating system and the fearsomely popular Firefox browser, is developed outside company structures by people who do not have legal departments to check for patent infringements. The damage to software will not happen overnight, of course. If the directive goes through it has to be written into national laws and then there will be a steady stream of legal actions against small companies and open source products. Eventually someone will decide to attack Linux directly, probably with some secret funding from one or two large players. The new directive will limit innovation by forcing programmers to spend time checking for patent infringements or simply avoiding working in potentially competitive areas. And it will damage Europe\\'s computer industry. We can only hope that the Council of Ministers has the integrity and strength to reject this bad law.  Bill Thompson is a regular commentator on the BBC World Service programme Go Digital. ',\n",
              "       'US cyber security chief resigns The man making sure US computer networks are safe and secure has resigned after only a year in his post.  Amit Yoran was director of the National Cyber Security Division within the US Department of Homeland Security created following the 9/11 attacks. The division was tasked with improving US defences against malicious hackers, viruses and other net-based threats. Reports suggest he left because his division was not given enough clout within the larger organisation.  Mr Yoran took up his post in September 2003 and his first task was to get the Cyber Security Division up and running. The organisation had a staff of about 60 people and a budget of about $80m (£44.54m). The division was charged with thinking up and carrying out action to make US networks more impervious to attack and disruption by the viruses, worms and hack attacks that have become commonplace.  In the last 12 months Mr Yoran oversaw the creation of a cyber alert system that sends out warnings about big hitting viruses and net attacks as they occur. The warnings also contained information about how firms and organisations could protect themselves against these attacks. The Cyber Security Division also audited US government networks to discover exactly what was sitting on which network. The next step was to be the creation of a scanning system to identify vulnerabilities that made federal networks and machines susceptible to attack by malicious hackers and virus writers. Mr Yoran\\'s division was also doing work to identify the networks and machines that had been broken into by cyber criminals. Despite this success Mr Yoran left his post abruptly at the end of last week, reportedly only giving one day\\'s notice to bosses at the Department of Homeland Security. \"Amit Yoran has been a valuable contributor on cyber security issues over the past year, and we appreciate his efforts in starting the department\\'s cybersecurity program,\" said a Department of Homeland Security spokeswoman. Some reports have suggested that Mr Yoran felt frustrated by the lack of prominence given to work to protect against net-based threats in the wider homeland organisation. An attempt by US politicians to pass a law to promote Mr Yoran and raise the profile of his department\\'s work is now mired in Congress. ',\n",
              "       'Losing yourself in online gaming Online role playing games are time-consuming, but enthralling flights from reality. But are some people taking their fantasy lives too seriously?  When video game World of Warcraft hit the shops in Europe last week fans wrote in to the BBC website to express their delight - and to offer a warning. \"An addiction to a game like this is far more costly in time than any substance could impair - keep track of time,\" wrote Travis Anderson, in Texas. Some of the comments were humorous: \"This game is so good I\\'m not going to get it, there\\'s no way I could limit the hours I\\'d spend playing it,\" wrote Charles MacIntyre, from England.  But some struck a more worrying tone about the Massively Multiplayer Online Role Playing Game (MMORPG): \"\\'You need to get out more\\' could be the motto of any MMORPG. Shame they are getting more popular, as you know this problem is just going to mushroom,\" wrote Stuart Stanton-Davies, in Huddersfield. Scare-mongering articles about \"addictive video games\" have existed since the days the first game of Pong stopped everyone from working at the Atari offices.  Gaming is like any other pastime - it can quickly become an unhealthy obsession, whether it is spending too much time in the gym, in front of the television, or reading poetry.  Unfortunately, gaming and addiction is a far too easy association to make. However, stories about gamers spending 10 to 15 hours a day in front of some video games are becoming more frequent. And the impact that is having on their families is quite distressing for some.  Massively multiplayer online role playing games - MMORPGs - allow thousands of gamers to share a common experience of sharing fantasy or science fiction worlds. The scope of these games - like Warcraft, EverQuest, Ultima among others - is epic, and exploration and adventure is almost infinite. Part of the \"problem\" is grinding - by which gamers have to perform long-winded, mindless tasks, to bring up their levels and gain access to more adventure. Such open-endedness brings with it a desire to keep playing; not for no reason is EverQuest (EQ) nicknamed EverCrack. E Hayot, writing in the culture blogzine Print Culture, said recently: \"I used to play the online role-playing game EverQuest a lot. \"By \\'a lot\\', I mean probably 15 to 20 hours a week on average, and on weeks where I didn\\'t have to work, as many as 30 or 40 hours.\"  He says that in the world of online gaming such behaviour \"wasn\\'t that unusual; lots of people I knew in the game played EQ that much\". \"You lie; you don\\'t go into work because you \"had stuff to do at home\"; you cancel or refuse invitations to dinner, you spend much less time watching TV (a good thing, presumably),\" he wrote, explaining how EverQuest took over his time. He quit the game, he says, because he realised life was more fun than EverQuest.  Let us be clear - such obsession is rare. But the huge growth in online gaming means a growth in the numbers of people who take their passion for a hobby too far. Almost 400,000 people bought a copy of World of Warcraft in the first two days on sale earlier this month. Only a fraction will descend into obsessives. The thoughts of families and friends of gamers who have been affected by EverQuest can be found on one blog EverQuest Daily Grind. Jane, who runs the website, compiles a chronicle of heart-rending stories. \"I am actually convinced at this point that there are more than \\'some\\' people who spend more times in MMOPRGs than in reality,\" she said. One unnamed correspondent - all are anonymous - wrote: \"On the rare nights when my husband does come to bed at the same time as I do, I find that I am so used to sleeping by myself that it is difficult to get to sleep with another body laying next to me.  \"I can\\'t talk to him while he is playing. There is absolutely no point as he doesn\\'t hear me or is so distracted that I get a \\'ummm... ya\\' a few minutes after I ask him a question.\"  \"Gaming widows\" has become a comedic term for women who have been shut out by male gamers. But for some it is not in the least funny. Another correspondent wrote: \"I believe that he is addicted to the online gaming, and that is the cause of his depression and restlessness.\" And some of them are even sadder: \"Today our son was five days old. \"The sad truth is my husband spent 11 hours today playing his Warcraft game. He did not interact with our sweet tiny baby because there were important quests waiting online.\" Video game fans often complain that their hobby is misunderstood or marginalised. But as gaming becomes ever more mainstream, and games ever more immersive, there will be no hiding place for social problems.    I wish 30-40 hours a week was unusual but I think it probably isn\\'t. An 11 hour stretch isn\\'t that surprising - I\\'ve known people to play 15+ hours at a stretch. I know of people who are spending their week\\'s holiday from work playing Warcraft. I know of people who would play Ever[Crack] in shifts...waking at 3am to take over from their friends and resume waiting for an item they \\'needed\\' to appear. I understand that the key sign of an addiction is if you alter your life around it rather than fit it into your life. By all standards many of us are addicts. So is the solution to force ourselves to stop playing..or do we just need to make real life a bit more interesting?  Sadly with all the talk of people becoming obsessed with gaming, I find myself longing to have the time to join them. I have been in a long term relationship for over 4 years - since that began, games have become more and more complex. And more and more so I find I have less and less time to play them, with and marriage and work being the main drag on my time.  I think the line between playing a game a lot and a gaming addiction is really quite distinct. I play games a lot, definately over 20 hours a week, but I don\\'t go missing work or other commitments in order to play games.  I have, about a year ago, deleted every game on my computer. RPGs are the worst - the real world fades and all your worries sorround a new magic staff or mighty sword. Unlike books, or perhaps even TV, you gain absolutely nothing. When you stop playing you\\'re at the same point as when you started; all the achievements of your 10 hour session are irretrievably locked in the game and, since you\\'ve gained nothing in the real world, you may as well pile on more achievement in the fake one.  Despite having little monetary value, the \"rewards\" and encouragement offered by these MMORPGs is enough to hook games for hours daily. If only business could learn to leverage that very simply human need for easily measurable progress and recognition. Perhaps the unhealthily obsessed simply need more recognition for their achievements in reality?  My advice to gaming widows is \"if you can\\'t beat \\'em, join \\'em\". That is, try playing it yourself. If he wants to play as well, well at least you\\'ll be together somewhere...  I was an addict and it cost me my relationship. I still play now, but without the guilt , hehe, How long have i played in one sitting? From morning till the early hours of the next day, the birds were singing out side and i had to hobble to the bath room cos my bladder was so full i was in pain, i would hardly eat, perhaps some toast, smoke endlessly and drink. Now, thankfully the fascination has worn off and I have a girlfriend but still no job. For the most part online gaming give me an adiction to illusory achievement, and as there is no end in sight you keep going for the mirage of the ultimate.  Obsessive behaviour is, of course, always cause for concern, but it always bothers me when articles about gaming talk in terms of \"reality\". Obviously, somebody who spends thirty hours a week playing EverQuest has a problem. This problem, however, has nothing to do with a dysfunctional sense of reality. An obsessive EQ player does not consider the game to be \"real\" any more than - for example - an obsessive automotive tinkerer considers their car to be human. If MMORPGs have a unique danger, in terms of encouraging obsessive behaviour, it is not that they create an absorbing virtual world, but rather that they can be easily accessed 24/7. The problem here does not lie with the nature of gaming, but with the nature of modern 24 hour culture.  The problem with these so called MMORPGS is that you can never really complete them, there\\'s always another quest to do. A few of my friends have only had about 10 hours sleep since it was released friday...  Championship Manager consumed my life for years. One particular session started at about 2pm on a Sunday, paused for a brief sleep at 5am on the Monday and after visit to University for classes restarted at about midday for another 10 hour session. The people who tend to hark on about about the problems of \"hardcore gaming\" seem to be those who have rarely allowed themselves to become immersed in a game. I would expect their perspective to change if they were to do that.  I used to be an EverQuest addict while I was in college. It came to the point where the gaming world felt more real than the real one. I failed alot of my courses and was able to barely graduate. I was lucky that I came to my senses when I did, others were less fortunate and dropped out of college. Now that I am holding a job, I avoid online RPGS like the plague.  When I was made redundant I told my partner I had a new job for three months whilst every day I played EverQuest from 7:30am till 5:pm. When She came home I pretended I had just got in as well, hence justifying playing it all evening. I have since quit playing MMORPG and have a good job.  When I got to the point where I was eating my dinner in front of the PC I realised things were getting silly so I\\'m trying not to spend so much time on there. It\\'s not easy. I feel as if I\\'ve got a real addiction going on here.  For me the problem is that I love to complete a goal. Once it is completed that is it, I am finished, time to move on. I become obsessed to complete the goal, so from that standpoint it is an addiction. In a game where you will never complete an \"ultimate\" goal, well it would be like falling into a black pit. It is easier to escape into a controlled fantasy world than face reality at times - in other words the goal offered in the PC game are \"easier\" and more fun than the real world. Pretty scary implications if you think about it.  I can\\'t buy World of Warcraft as it would destroy my marrage, I just know it!!  I played Star Wars Galaxies for about a year and can attest to the addictiveness of these games. They are all engineered in such a way that early on in the game you progress quickly, but this progress becomes exponentially slower, requiring more and more time to reach the next level. I\\'m sad to say that at the peak of my addiction I was spending entire weekends in front of my monitor, slowly building up my character, stopping only for food and toilet breaks. Thankfully I made a clean break, and actually managed to sell my Jedi account for £800 - which is my only sanity check in an otherwise completely unproductive time vacuum.  Seven years ago, I began playing Ultima Online. This game dominated 2 years of my life. They were 2 wonderful years and I still have vivid memories of the experiences and friends I had. Online gaming can be a world of escapism where you can be yourself without fear of the thoughts of others. Something that cannot always be achieved in the day to day running of a normal life. Whilst I would warn against people giving to much of there life to these games, I believe they are a better way to spend your time than say watching TV.  Gaming is addictive and should be made a recognised addiction. When I was single I used to play upto eight hours a night after work every night for about a year, building up my stats, completing evermore quests and battling ogres. But somehow I found time to get out, even met someone and got married! Has my life changed? Hell no! I still cast spells and battle till the early hours of the morning. On with the fun!  Online gaming should be enjoyed just as much as you would enjoy watching television, or going to the cinema or the pub with your mates.  Many people use recreational drugs on an occasional basis and are able to lead succesfull lives with families, relationships and good careers. A minority allow drugs to take over and destroy their lives and become addicted. According to this article the same is true of MMORPGs. The message to the government is clear, either legalise drugs, or outlaw online gaming!!  Sounds like there are some sad stories here - and I can believe them all. I play alot of Warcraft myself, and know full well how addictive it is. I am resolute that it will not take over my life. It certainly gets in the way though. I think that some people simply do not know how to draw this line, or lack the willpower to stop themselves stepping over it.  I think I\\'m obsessed with gaming in general, I spend far too much time playing games like Everquest 2 and Football Manager rather than going out and interacting with real people and when I do try to, I\\'m always thinking in the back if my mind that I\\'d rather be in front of the computer winning the league with Cambridge United.  I am obsessed with online role playing games. It\\'s not so much quests but it has the adrenaline of a real life situation - goals to achieve etc. I spend about five hours per day online playing it and I rarely get more than four to five hours sleep before getting up for work the next morning...  As many of the players spend their time in MMORPGs rather than in front of the TV I fail to see how it will affect players social lives negatively. Furthermore these types of games contain a huge social aspect, whereas other games and some other pursuits (such as being a couch potato) the players could be indulging in are solitary by nature.  These games are like most things -- too much of anything is a bad thing, but as long as you can walk away from the computer to do other things too, they can be great fun.  Living in Korea at the moment, they have lots PC Bangs (Internet Cafes). Nearly most of South Koreans are addicted to online games, and one Korean died because of the lack of food and water he had through playing online games.  I play xbox live every day. I find my self lying and rescheduling everything around my gaming fix. The longest I played was a 24 hour straight session. I know I play for to long but it\\'s an obsession that I can\\'t control. Can you reccomend a counsellor - this is not a wind up... but something I\\'m increasingly concerned with...  Me and my mate play online for an hour or two a day, we\\'re both aware of how much time can disappear by sitting in front of a TV, trying to \\'frag\\' some individual. It\\'s getting the balance between getting home and relasing the stress of a day by an hour or so gaming, and enjoying \\'real\\' life...  I bought the US version of World of Warcraft when it came out. The longest period I played was 23 hrs straight. I gave up the game after a month because it was so addictive, but have subsequently just bought the European version (couldn\\'t help myself). In future, I\\'m going to regulate my time far more strictly. Great game!  Having played MMORPG games for some years I agree that these type of games can be life sucking. But my concern is for the younger generation of gamers that play for hours on end in an adult enviroment. Most MMORPG games you need a credit card to play but I dont think parents know just what they are letting there children into.  Unless there is undeniable medical proof that staring at a computer screens for hours at a time can damage a person&#191;s health, you can expect this not to decline but to get worse.  These people are pathetic. They need to get off their machines and notice that our world is being swiftly overcome by issues and troubles that make the trifling worries of and \"online universe\" absolutely meaningless.  24hours, when i was a kid at school and i was on half term, Ultima Online was the game, ahhhh them was the days ! LOL '],\n",
              "      dtype=object)"
            ]
          },
          "execution_count": 19,
          "metadata": {},
          "output_type": "execute_result"
        }
      ],
      "source": [
        "a"
      ]
    },
    {
      "cell_type": "code",
      "execution_count": 20,
      "metadata": {
        "id": "aa3rkJ5P1vsJ"
      },
      "outputs": [],
      "source": [
        "b=df.iloc[:,2:]"
      ]
    },
    {
      "cell_type": "code",
      "execution_count": 21,
      "metadata": {
        "colab": {
          "base_uri": "https://localhost:8080/",
          "height": 423
        },
        "id": "BkA3_Jvj16gE",
        "outputId": "b201b11d-e9bd-4281-8471-683c26ee952e"
      },
      "outputs": [
        {
          "data": {
            "text/html": [
              "<div>\n",
              "<style scoped>\n",
              "    .dataframe tbody tr th:only-of-type {\n",
              "        vertical-align: middle;\n",
              "    }\n",
              "\n",
              "    .dataframe tbody tr th {\n",
              "        vertical-align: top;\n",
              "    }\n",
              "\n",
              "    .dataframe thead th {\n",
              "        text-align: right;\n",
              "    }\n",
              "</style>\n",
              "<table border=\"1\" class=\"dataframe\">\n",
              "  <thead>\n",
              "    <tr style=\"text-align: right;\">\n",
              "      <th></th>\n",
              "      <th>business</th>\n",
              "      <th>entertainment</th>\n",
              "      <th>politics</th>\n",
              "      <th>sport</th>\n",
              "      <th>tech</th>\n",
              "    </tr>\n",
              "  </thead>\n",
              "  <tbody>\n",
              "    <tr>\n",
              "      <th>0</th>\n",
              "      <td>1</td>\n",
              "      <td>0</td>\n",
              "      <td>0</td>\n",
              "      <td>0</td>\n",
              "      <td>0</td>\n",
              "    </tr>\n",
              "    <tr>\n",
              "      <th>1</th>\n",
              "      <td>1</td>\n",
              "      <td>0</td>\n",
              "      <td>0</td>\n",
              "      <td>0</td>\n",
              "      <td>0</td>\n",
              "    </tr>\n",
              "    <tr>\n",
              "      <th>2</th>\n",
              "      <td>1</td>\n",
              "      <td>0</td>\n",
              "      <td>0</td>\n",
              "      <td>0</td>\n",
              "      <td>0</td>\n",
              "    </tr>\n",
              "    <tr>\n",
              "      <th>3</th>\n",
              "      <td>1</td>\n",
              "      <td>0</td>\n",
              "      <td>0</td>\n",
              "      <td>0</td>\n",
              "      <td>0</td>\n",
              "    </tr>\n",
              "    <tr>\n",
              "      <th>4</th>\n",
              "      <td>1</td>\n",
              "      <td>0</td>\n",
              "      <td>0</td>\n",
              "      <td>0</td>\n",
              "      <td>0</td>\n",
              "    </tr>\n",
              "    <tr>\n",
              "      <th>...</th>\n",
              "      <td>...</td>\n",
              "      <td>...</td>\n",
              "      <td>...</td>\n",
              "      <td>...</td>\n",
              "      <td>...</td>\n",
              "    </tr>\n",
              "    <tr>\n",
              "      <th>2220</th>\n",
              "      <td>0</td>\n",
              "      <td>0</td>\n",
              "      <td>0</td>\n",
              "      <td>0</td>\n",
              "      <td>1</td>\n",
              "    </tr>\n",
              "    <tr>\n",
              "      <th>2221</th>\n",
              "      <td>0</td>\n",
              "      <td>0</td>\n",
              "      <td>0</td>\n",
              "      <td>0</td>\n",
              "      <td>1</td>\n",
              "    </tr>\n",
              "    <tr>\n",
              "      <th>2222</th>\n",
              "      <td>0</td>\n",
              "      <td>0</td>\n",
              "      <td>0</td>\n",
              "      <td>0</td>\n",
              "      <td>1</td>\n",
              "    </tr>\n",
              "    <tr>\n",
              "      <th>2223</th>\n",
              "      <td>0</td>\n",
              "      <td>0</td>\n",
              "      <td>0</td>\n",
              "      <td>0</td>\n",
              "      <td>1</td>\n",
              "    </tr>\n",
              "    <tr>\n",
              "      <th>2224</th>\n",
              "      <td>0</td>\n",
              "      <td>0</td>\n",
              "      <td>0</td>\n",
              "      <td>0</td>\n",
              "      <td>1</td>\n",
              "    </tr>\n",
              "  </tbody>\n",
              "</table>\n",
              "<p>2225 rows × 5 columns</p>\n",
              "</div>"
            ],
            "text/plain": [
              "      business  entertainment  politics  sport  tech\n",
              "0            1              0         0      0     0\n",
              "1            1              0         0      0     0\n",
              "2            1              0         0      0     0\n",
              "3            1              0         0      0     0\n",
              "4            1              0         0      0     0\n",
              "...        ...            ...       ...    ...   ...\n",
              "2220         0              0         0      0     1\n",
              "2221         0              0         0      0     1\n",
              "2222         0              0         0      0     1\n",
              "2223         0              0         0      0     1\n",
              "2224         0              0         0      0     1\n",
              "\n",
              "[2225 rows x 5 columns]"
            ]
          },
          "execution_count": 21,
          "metadata": {},
          "output_type": "execute_result"
        }
      ],
      "source": [
        "b"
      ]
    },
    {
      "cell_type": "code",
      "execution_count": 22,
      "metadata": {
        "id": "RqyvzFFv1-i6"
      },
      "outputs": [],
      "source": [
        "a_train, a_test, b_train, b_test = train_test_split(a, b, test_size=0.2, random_state=42)"
      ]
    },
    {
      "cell_type": "code",
      "execution_count": 23,
      "metadata": {
        "colab": {
          "base_uri": "https://localhost:8080/"
        },
        "id": "WluOdZgH2I8t",
        "outputId": "05a55280-1d3f-4ae0-c5e4-ac5099826de2"
      },
      "outputs": [
        {
          "name": "stdout",
          "output_type": "stream",
          "text": [
            "(1780, 5)\n",
            "(445, 5)\n"
          ]
        }
      ],
      "source": [
        "print(b_train.shape)\n",
        "print(b_test.shape)"
      ]
    },
    {
      "cell_type": "code",
      "execution_count": 24,
      "metadata": {
        "id": "_Jp6Erdb2LP9"
      },
      "outputs": [],
      "source": [
        "tokenizer = Tokenizer(num_words=5000, oov_token='x')\n",
        "\n",
        "tokenizer.fit_on_texts(a_train) \n",
        "tokenizer.fit_on_texts(a_test)\n",
        " \n",
        "sekuens_train = tokenizer.texts_to_sequences(a_train)\n",
        "sekuens_test = tokenizer.texts_to_sequences(a_test)\n",
        " \n",
        "padded_train = pad_sequences(sekuens_train) \n",
        "padded_test = pad_sequences(sekuens_test)"
      ]
    },
    {
      "cell_type": "code",
      "execution_count": 25,
      "metadata": {
        "id": "pii2TOKc2POy"
      },
      "outputs": [],
      "source": [
        "class myCallback(tf.keras.callbacks.Callback):\n",
        "  def on_epoch_end(self, epoch, logs={}):\n",
        "    if(logs.get('accuracy')>0.97 and logs.get('val_accuracy')>0.90):\n",
        "      self.model.stop_training = True\n",
        "      print(\"\\nAkurasi sudah mencapai > 97%, hentikan proses training!\")\n",
        "callbacks = myCallback()"
      ]
    },
    {
      "cell_type": "code",
      "execution_count": 28,
      "metadata": {
        "colab": {
          "base_uri": "https://localhost:8080/"
        },
        "id": "BXY0zn6i2W5-",
        "outputId": "e36ce82f-d169-4eb0-9920-883730be31d5"
      },
      "outputs": [
        {
          "name": "stdout",
          "output_type": "stream",
          "text": [
            "Model: \"sequential_1\"\n",
            "_________________________________________________________________\n",
            "Layer (type)                 Output Shape              Param #   \n",
            "=================================================================\n",
            "embedding_1 (Embedding)      (None, None, 64)          320000    \n",
            "_________________________________________________________________\n",
            "batch_normalization_1 (Batch (None, None, 64)          256       \n",
            "_________________________________________________________________\n",
            "lstm_1 (LSTM)                (None, 64)                33024     \n",
            "_________________________________________________________________\n",
            "dense_2 (Dense)              (None, 64)                4160      \n",
            "_________________________________________________________________\n",
            "dropout_1 (Dropout)          (None, 64)                0         \n",
            "_________________________________________________________________\n",
            "dense_3 (Dense)              (None, 5)                 325       \n",
            "=================================================================\n",
            "Total params: 357,765\n",
            "Trainable params: 357,637\n",
            "Non-trainable params: 128\n",
            "_________________________________________________________________\n"
          ]
        }
      ],
      "source": [
        "model = tf.keras.Sequential([\n",
        "     tf.keras.layers.Embedding(input_dim=5000, output_dim=64),\n",
        "     tf.keras.layers.BatchNormalization(),\n",
        "     tf.keras.layers.LSTM(64),\n",
        "     tf.keras.layers.Dense(64, activation='relu'),\n",
        "     tf.keras.layers.Dropout(0.5),\n",
        "     tf.keras.layers.Dense(5, activation='softmax')\n",
        "     ])\n",
        "\n",
        "model.compile(loss='categorical_crossentropy',\n",
        "              optimizer='adam',\n",
        "              metrics=['accuracy'\n",
        "              ])\n",
        "\n",
        "model.summary()"
      ]
    },
    {
      "cell_type": "code",
      "execution_count": 29,
      "metadata": {
        "colab": {
          "base_uri": "https://localhost:8080/"
        },
        "id": "iAGeZ5o3jXXb",
        "outputId": "019a1221-c582-43f5-c417-c7b835c3b45a"
      },
      "outputs": [
        {
          "name": "stdout",
          "output_type": "stream",
          "text": [
            "Epoch 1/50\n",
            "56/56 - 26s - loss: 1.5969 - accuracy: 0.2691 - val_loss: 1.6028 - val_accuracy: 0.2449\n",
            "Epoch 2/50\n",
            "56/56 - 24s - loss: 1.2464 - accuracy: 0.5191 - val_loss: 1.5537 - val_accuracy: 0.4674\n",
            "Epoch 3/50\n",
            "56/56 - 23s - loss: 0.6482 - accuracy: 0.7966 - val_loss: 1.3464 - val_accuracy: 0.6090\n",
            "Epoch 4/50\n",
            "56/56 - 24s - loss: 0.2527 - accuracy: 0.9320 - val_loss: 1.0886 - val_accuracy: 0.6427\n",
            "Epoch 5/50\n",
            "56/56 - 24s - loss: 0.1189 - accuracy: 0.9685 - val_loss: 0.9220 - val_accuracy: 0.7079\n",
            "Epoch 6/50\n",
            "56/56 - 23s - loss: 0.0542 - accuracy: 0.9899 - val_loss: 0.8237 - val_accuracy: 0.7303\n",
            "Epoch 7/50\n",
            "56/56 - 24s - loss: 0.0179 - accuracy: 0.9978 - val_loss: 0.7433 - val_accuracy: 0.7753\n",
            "Epoch 8/50\n",
            "56/56 - 24s - loss: 0.0157 - accuracy: 0.9972 - val_loss: 0.4448 - val_accuracy: 0.8787\n",
            "Epoch 9/50\n",
            "56/56 - 23s - loss: 0.0194 - accuracy: 0.9978 - val_loss: 0.6527 - val_accuracy: 0.8517\n",
            "Epoch 10/50\n",
            "56/56 - 24s - loss: 0.0056 - accuracy: 1.0000 - val_loss: 0.6823 - val_accuracy: 0.8607\n",
            "Epoch 11/50\n",
            "56/56 - 23s - loss: 0.1231 - accuracy: 0.9663 - val_loss: 0.6284 - val_accuracy: 0.8315\n",
            "Epoch 12/50\n",
            "56/56 - 23s - loss: 0.0231 - accuracy: 0.9961 - val_loss: 0.5706 - val_accuracy: 0.8809\n",
            "Epoch 13/50\n",
            "56/56 - 23s - loss: 0.0427 - accuracy: 0.9888 - val_loss: 0.6050 - val_accuracy: 0.8742\n",
            "Epoch 14/50\n",
            "56/56 - 23s - loss: 0.0063 - accuracy: 1.0000 - val_loss: 0.5598 - val_accuracy: 0.8854\n",
            "Epoch 15/50\n",
            "56/56 - 23s - loss: 0.0056 - accuracy: 1.0000 - val_loss: 0.5520 - val_accuracy: 0.8876\n",
            "Epoch 16/50\n",
            "56/56 - 24s - loss: 0.0039 - accuracy: 1.0000 - val_loss: 0.5456 - val_accuracy: 0.8876\n",
            "Epoch 17/50\n",
            "56/56 - 23s - loss: 0.0027 - accuracy: 1.0000 - val_loss: 0.5544 - val_accuracy: 0.8966\n",
            "Epoch 18/50\n",
            "56/56 - 23s - loss: 0.0032 - accuracy: 1.0000 - val_loss: 0.5533 - val_accuracy: 0.8966\n",
            "Epoch 19/50\n",
            "56/56 - 23s - loss: 0.0025 - accuracy: 0.9994 - val_loss: 0.5461 - val_accuracy: 0.9056\n",
            "\n",
            "Akurasi sudah mencapai > 97%, hentikan proses training!\n"
          ]
        }
      ],
      "source": [
        "history = model.fit(padded_train, b_train, epochs=50, \n",
        "                    validation_data=(padded_test, b_test), verbose=2, callbacks=[callbacks], validation_steps=30)"
      ]
    },
    {
      "cell_type": "code",
      "execution_count": 30,
      "metadata": {
        "colab": {
          "base_uri": "https://localhost:8080/",
          "height": 295
        },
        "id": "wBi5lT9t3QrW",
        "outputId": "cb284261-b8c9-4eeb-e6de-fee7e819fe02"
      },
      "outputs": [
        {
          "data": {
            "image/png": "[encoded data removed]",
            "text/plain": [
              "<Figure size 432x288 with 1 Axes>"
            ]
          },
          "metadata": {
            "needs_background": "light"
          },
          "output_type": "display_data"
        }
      ],
      "source": [
        "plt.plot(history.history['accuracy'])\n",
        "plt.plot(history.history['val_accuracy'])\n",
        "plt.title('Model Accuracy')\n",
        "plt.ylabel('Accuracy')\n",
        "plt.xlabel('Epoch')\n",
        "plt.legend(['Train', 'Test'], loc='upper left')\n",
        "plt.show()"
      ]
    },
    {
      "cell_type": "code",
      "execution_count": 31,
      "metadata": {
        "colab": {
          "base_uri": "https://localhost:8080/",
          "height": 295
        },
        "id": "forNyXxFBcyF",
        "outputId": "8d84c2c4-2232-4696-c75c-9c2367b69d56"
      },
      "outputs": [
        {
          "data": {
            "image/png": "[encoded data removed]",
            "text/plain": [
              "<Figure size 432x288 with 1 Axes>"
            ]
          },
          "metadata": {
            "needs_background": "light"
          },
          "output_type": "display_data"
        }
      ],
      "source": [
        "plt.plot(history.history['loss'])\n",
        "plt.plot(history.history['val_loss'])\n",
        "plt.title('Model loss')\n",
        "plt.ylabel('Loss')\n",
        "plt.xlabel('Epoch')\n",
        "plt.legend(['Train', 'Test'], loc='upper right')\n",
        "plt.show()"
      ]
    }
  ],
  "metadata": {
    "accelerator": "GPU",
    "colab": {
      "collapsed_sections": [],
      "name": "Model_NLP.ipynb",
      "provenance": []
    },
    "kernelspec": {
      "display_name": "Python 3",
      "name": "python3"
    },
    "language_info": {
      "name": "python"
    }
  },
  "nbformat": 4,
  "nbformat_minor": 0
}
